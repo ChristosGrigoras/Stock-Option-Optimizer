{
  "nbformat": 4,
  "nbformat_minor": 0,
  "metadata": {
    "colab": {
      "name": "Derivatives.ipynb",
      "provenance": [],
      "collapsed_sections": []
    },
    "kernelspec": {
      "display_name": "Python 3",
      "language": "python",
      "name": "python3"
    },
    "language_info": {
      "codemirror_mode": {
        "name": "ipython",
        "version": 3
      },
      "file_extension": ".py",
      "mimetype": "text/x-python",
      "name": "python",
      "nbconvert_exporter": "python",
      "pygments_lexer": "ipython3",
      "version": "3.8.3"
    }
  },
  "cells": [
    {
      "cell_type": "markdown",
      "metadata": {
        "id": "dl-p41h7vZeL"
      },
      "source": [
        "get data for BAC\n"
      ]
    },
    {
      "cell_type": "code",
      "metadata": {
        "id": "C3nowx3uUPuI"
      },
      "source": [
        "%%capture\n",
        "pip install git+https://github.com/femtotrader/python-eodhistoricaldata.git\n"
      ],
      "execution_count": null,
      "outputs": []
    },
    {
      "cell_type": "code",
      "metadata": {
        "id": "GEns57Eld-DC"
      },
      "source": [
        "%%capture \n",
        "pip install pulp"
      ],
      "execution_count": null,
      "outputs": []
    },
    {
      "cell_type": "code",
      "metadata": {
        "id": "EQN1s_FSa14i"
      },
      "source": [
        "%%capture\n",
        "pip install ipywidgets\n"
      ],
      "execution_count": null,
      "outputs": []
    },
    {
      "cell_type": "code",
      "metadata": {
        "id": "I3jt732Ld-DE"
      },
      "source": [
        "%%capture\n",
        "!jupyter nbextension enable --py widgetsnbextension\n"
      ],
      "execution_count": null,
      "outputs": []
    },
    {
      "cell_type": "code",
      "metadata": {
        "colab": {
          "base_uri": "https://localhost:8080/"
        },
        "id": "K6AlX_MqUbZ7",
        "outputId": "369a7af9-1f7c-4f53-b5ce-469df38ce7b3"
      },
      "source": [
        "lnk =  'https://eodhistoricaldata.com/api/options/BAC.US?api_token=' \n",
        "token = ''\n",
        "%env EOD_HISTORICAL_API_KEY=token\n"
      ],
      "execution_count": null,
      "outputs": [
        {
          "name": "stdout",
          "output_type": "stream",
          "text": [
            "env: EOD_HISTORICAL_API_KEY=token\n"
          ]
        }
      ]
    },
    {
      "cell_type": "code",
      "metadata": {
        "id": "SrCwlWv60tsr"
      },
      "source": [
        "%matplotlib widget\n",
        "import requests\n",
        "import datetime\n",
        "import pandas as pd\n",
        "from pandas.api.types import is_number\n",
        "from urllib.parse import urlencode\n",
        "import ipywidgets as widgets\n",
        "import matplotlib.pyplot as plt\n",
        "import numpy as np\n",
        "\n",
        "def _init_session(session):\n",
        "    \"\"\"\n",
        "    Returns a requests.Session (or CachedSession)\n",
        "    \"\"\"\n",
        "    if session is None:\n",
        "        return requests.Session()\n",
        "    return session\n",
        "\n",
        "\n",
        "def _url(url, params):\n",
        "    \"\"\"\n",
        "    Returns long url with parameters\n",
        "    http://mydomain.com?param1=...&param2=...\n",
        "    \"\"\"\n",
        "    if params is not None and len(params) > 0:\n",
        "        return url + \"?\" + urlencode(params)\n",
        "    else:\n",
        "        return url\n",
        "\n",
        "\n",
        "class RemoteDataError(IOError):\n",
        "    \"\"\"\n",
        "    Remote data exception\n",
        "    \"\"\"\n",
        "    pass\n",
        "\n",
        "\n",
        "def _format_date(dt):\n",
        "    \"\"\"\n",
        "    Returns formated date\n",
        "    \"\"\"\n",
        "    if dt is None:\n",
        "        return dt\n",
        "    return dt.strftime(\"%Y-%m-%d\")\n",
        "\n",
        "\n",
        "def _sanitize_dates(start, end):\n",
        "    \"\"\"\n",
        "    Return (datetime_start, datetime_end) tuple\n",
        "    \"\"\"\n",
        "    if is_number(start):\n",
        "        # regard int as year\n",
        "        start = datetime.datetime(start, 1, 1)\n",
        "    start = pd.to_datetime(start)\n",
        "\n",
        "    if is_number(end):\n",
        "        # regard int as year\n",
        "        end = datetime.datetime(end, 1, 1)\n",
        "    end = pd.to_datetime(end)\n",
        "\n",
        "    if start is not None and end is not None:\n",
        "        if start > end:\n",
        "            raise Exception(\"end must be after start\")\n",
        "\n",
        "    return start, end"
      ],
      "execution_count": null,
      "outputs": []
    },
    {
      "cell_type": "code",
      "metadata": {
        "id": "glppFsDMvZLU"
      },
      "source": [
        "\n",
        "import os\n",
        "import requests\n",
        "import pandas as pd\n",
        "from io import StringIO\n",
        "import json\n",
        "# from ._utils import (_init_session, _format_date,\n",
        "#                      _sanitize_dates, _url, RemoteDataError)\n",
        "\n",
        "EOD_HISTORICAL_DATA_API_KEY_ENV_VAR = \"EOD_HISTORICAL_API_KEY\"\n",
        "EOD_HISTORICAL_DATA_API_KEY_DEFAULT = \"OeAFFmMliFG5orCUuwAKQ8l4WWFQ67YX\"\n",
        "EOD_HISTORICAL_DATA_API_URL = \"https://eodhistoricaldata.com/api\"\n",
        "\n",
        "pd.set_option(\"max_rows\", 10)\n",
        "\n",
        "def get_options_data(symbol, exchange, start=None, end=None,\n",
        "                 api_key=token,\n",
        "                 session=None):\n",
        "    \"\"\"\n",
        "    Returns EOD (end of day data) for a given symbol\n",
        "    \"\"\"\n",
        "    symbol_exchange = symbol + \".\" + exchange\n",
        "    session = _init_session(session)\n",
        "    start, end = _sanitize_dates(start, end)\n",
        "    endpoint = \"/options/{symbol_exchange}\".format(symbol_exchange=symbol_exchange)\n",
        "    url = EOD_HISTORICAL_DATA_API_URL + endpoint\n",
        "    params = {\n",
        "        \"api_token\": api_key,\n",
        "        \"from\": _format_date(start),\n",
        "        \"to\": _format_date(end)\n",
        "    }\n",
        "    r = session.get(url, params=params)\n",
        "    if r.status_code == requests.codes.ok:\n",
        "        df = json.loads(r.text)\n",
        "        return df\n",
        "    else:\n",
        "        params[\"api_token\"] = \"YOUR_HIDDEN_API\"\n",
        "        raise RemoteDataError(r.status_code, r.reason, _url(url, params))\n",
        "        \n",
        "def get_stock_data(symbol, exchange, start=None, end=None,\n",
        "                 api_key=token,\n",
        "                 session=None):\n",
        "    \"\"\"\n",
        "    Returns EOD (end of day data) for a given symbol\n",
        "    \"\"\"\n",
        "    symbol_exchange = symbol + \".\" + exchange\n",
        "    session = _init_session(session)\n",
        "    start, end = _sanitize_dates(start, end)\n",
        "    endpoint = \"/eod/{symbol_exchange}\".format(symbol_exchange=symbol_exchange)\n",
        "    url = EOD_HISTORICAL_DATA_API_URL + endpoint\n",
        "    params = {\n",
        "        \"api_token\": api_key,\n",
        "        \"from\": _format_date(start),\n",
        "        \"to\": _format_date(end)\n",
        "    }\n",
        "    r = session.get(url, params=params)\n",
        "    if r.status_code == requests.codes.ok:\n",
        "        df = pd.read_csv(StringIO(r.text), skipfooter=1,\n",
        "                         parse_dates=[0], index_col=0)\n",
        "        return df\n",
        "    else:\n",
        "        params[\"api_token\"] = \"YOUR_HIDDEN_API\"\n",
        "        raise RemoteDataError(r.status_code, r.reason, _url(url, params))"
      ],
      "execution_count": null,
      "outputs": []
    },
    {
      "cell_type": "code",
      "metadata": {
        "id": "BtB-rOYj0wcv"
      },
      "source": [
        "symbol = 'WFC'\n",
        "exchange = 'US'"
      ],
      "execution_count": null,
      "outputs": []
    },
    {
      "cell_type": "code",
      "metadata": {
        "id": "wysVB_2rxXfx",
        "outputId": "b9e02b28-4e6e-44b7-f88e-c91e353e54c3"
      },
      "source": [
        "\n",
        "pd.options.display.width = 0\n",
        "df_opts = get_options_data(symbol, exchange, start=None, end=None,\n",
        "                       \n",
        "                       \n",
        "                 api_key=token,\n",
        "                 session=None)\n",
        "df_stock = get_stock_data(symbol, exchange, api_key=token, session=None)\n",
        "df_stock['MA20'] = df_stock['Close'].rolling(window=20).mean()\n",
        "df_stock['20dSTD'] = df_stock['Close'].rolling(window=20).std() \n",
        "\n",
        "\n",
        "df_stock['Upper_MA20'] = df_stock['MA20'] + (df_stock['20dSTD'] * 2)\n",
        "df_stock['Lower_MA20'] = df_stock['MA20'] - (df_stock['20dSTD'] * 2)\n",
        "df_stock['Upper_current'] = df_stock['Close'] + (df_stock['Upper_MA20'] -df_stock['MA20'])\n",
        "df_stock['Lower_current'] = df_stock['Close'] - (df_stock['MA20'] -df_stock['Lower_MA20'])\n",
        "df_stock['Boli_int'] = (df_stock['Upper_current'] - df_stock['Lower_current'])\n",
        "# df_stock['Boli_int2'] = df_stock['Boli_int'].fillna(0).astype('int')\n",
        "\n",
        "# df_stock.tail()\n",
        "current_spot = df_stock['Close'].iloc[-1]"
      ],
      "execution_count": null,
      "outputs": [
        {
          "name": "stderr",
          "output_type": "stream",
          "text": [
            "<ipython-input-7-1820381762a6>:57: ParserWarning: Falling back to the 'python' engine because the 'c' engine does not support skipfooter; you can avoid this warning by specifying engine='python'.\n",
            "  df = pd.read_csv(StringIO(r.text), skipfooter=1,\n"
          ]
        }
      ]
    },
    {
      "cell_type": "code",
      "metadata": {
        "id": "maD1Rf5ixrOs",
        "scrolled": true
      },
      "source": [
        "pd.set_option('display.max_colwidth', None)\n",
        "pd.set_option('display.max_columns', None)\n",
        "def get_init_df(df_opts):\n",
        "    df = df_opts\n",
        "    df = pd.json_normalize(df, 'data', sep='_').drop(['expirationDate', 'impliedVolatility'], axis=1)\n",
        "    # print(df.head(2))\n",
        "    df3 = df.explode('options_CALL').drop('options_PUT', axis = 1)\n",
        "    df3 = df3.rename( columns={'options_CALL': \"options\"})\n",
        "    df3.head(2)\n",
        "    df4 = pd.concat([df3.drop(['options'], axis=1), df3['options'].apply(pd.Series)], axis=1)\n",
        "    df3 = df.explode('options_PUT').drop('options_CALL', axis = 1)\n",
        "    df3 = df3.rename( columns={'options_PUT': \"options\"})\n",
        "    df3.head(2)\n",
        "    df5 = pd.concat([df3.drop(['options'], axis=1), df3['options'].apply(pd.Series)], axis=1)\n",
        "    # df = df4.append(df5) \n",
        "    df = pd.concat([df4, df5], ignore_index = True)\n",
        "    df['expirationDate'] = df['expirationDate'].astype('datetime64[ms]')\n",
        "    # df = df[~df.index.duplicated(keep='first')]\n",
        "    # df = df[df['expirationDate'] == '2021-09-21' ]\n",
        "    # df = df[df['type'] == 'CALL' ]\n",
        "    # df = df[ (df['strike'] >79) & (df['strike'] <135)  ]\n",
        "    print(df.shape)\n",
        "    df.sort_values(by=['contractName']).head(1)\n",
        "    return df"
      ],
      "execution_count": null,
      "outputs": []
    },
    {
      "cell_type": "code",
      "metadata": {
        "id": "M2_haFL9GTyh"
      },
      "source": [
        "import numpy as np\n",
        "from scipy.stats import norm\n",
        "\n",
        "def call_payoff(sT, strike_price, premium):\n",
        "    return np.where(np.array(sT) > strike_price, np.array(sT) - strike_price, 0) - premium\n",
        "\n",
        "def put_payoff(sT, strike_price, premium):\n",
        "    return np.where(sT < strike_price, strike_price - np.array(sT), 0) - premium\n",
        "\n",
        "def call_bs_payoff(sT, strike_price, bs, premium, items):\n",
        "    cp = items/np.abs(items)\n",
        "#     print(cp)\n",
        "    a= np.where(np.array(sT) > strike_price, np.array(sT) - strike_price, 0)\n",
        "#     print('bs')\n",
        "#     print(bs)\n",
        "#     print('payoff')\n",
        "#     print(np.where(np.array(sT) > strike_price, np.array(sT) - strike_price, 0))\n",
        "    a=(np.add((cp)*bs, (-cp)*premium) )\n",
        "#            lc     items:1  bs:3  premium:3  \n",
        "#            lc 60days    1  bs:6    6-3\n",
        "#            sc      items:-1 bs:3 premium:3\n",
        "#                             bs 6  -(6-3) -6 + 3\n",
        "#     print(a.shape)\n",
        "    return a\n",
        "\n",
        "def put_bs_payoff(sT, strike_price, bs, premium, items):\n",
        "#     return np.subtract(np.where(np.array(sT) < strike_price, strike_price - np.array(sT), 0) , bs)\n",
        "    cp = items/np.abs(items)\n",
        "#     print(cp)\n",
        "    a=(np.add((cp)*bs, (-cp)*premium) )\n",
        "    return a\n",
        "\n",
        "# call_payoff([39, 60], 50, [[1.4, 5.6], [ 7.7, 5.6], [1.3, 4.5]])\n",
        "# a=call_bs_payoff(bought['sT'][0], bought['strike_price'][0], bought['bs'][0][161], bought['avg_price'][0], bought['items'][0] )\n",
        "# a\n",
        "# call_payoff([39, 60], 50, [[1.4, 5.6], [ 7.7, 5.6], [1.3, 4.5]])\n",
        "\n"
      ],
      "execution_count": null,
      "outputs": []
    },
    {
      "cell_type": "code",
      "metadata": {
        "id": "a9nUZJLu1pbw"
      },
      "source": [
        "# S is the spot price SLIDER HERE\n",
        "# K is the strike price \n",
        "# T is the fraction of days to strike date divided by 252 (stock market days) SLIDER HERE\n",
        "# r is the risk free rate 0.01\n",
        "# sigma is the annual volatility of the returns of the stock\n",
        "\n",
        "# Task 1 : create sanity check : use B&S to generate theortical prices and cross check with actual data and report discrepancies\n",
        "# Task 2 : use implied volatility in our own calculations\n",
        "\n",
        "# # def black_scholes(S, K, T, r, sigma):\n",
        "# def black_scholes(row):\n",
        "#     d1 = np.log(row.S/(row.K/(1 + row.r)**row.T)/(row.sigma*sqrt(row.T))) + (row.sigma*sqrt(row.T))/2\n",
        "#     d2 = d1 - row.sigma * np.sqrt(row.T)\n",
        "#     return row.S * norm.cdf(d1) - (row.K/(1 + row.r)**row.T) * norm.cdf(d2)"
      ],
      "execution_count": null,
      "outputs": []
    },
    {
      "cell_type": "code",
      "metadata": {
        "scrolled": true,
        "id": "E3aVPMU3d-DK"
      },
      "source": [
        "from scipy import stats\n",
        "import math\n",
        "\n",
        "def black_scholes (cp, s, k, t, v, rf, div):\n",
        "        \"\"\" Price an option using the Black-Scholes model.\n",
        "        s: initial stock price\n",
        "        k: strike price\n",
        "        t: expiration time\n",
        "        v: volatility\n",
        "        rf: risk-free rate\n",
        "        div: dividend\n",
        "        cp: +1/-1 for call/put\n",
        "        \"\"\"\n",
        "\n",
        "#         d1 = (math.log(s/k)+(rf-div+0.5*math.pow(v,2))*t)/(v*math.sqrt(t))\n",
        "#         d2 = d1 - v*math.sqrt(t)\n",
        "            \n",
        "#         optprice = (cp*s*math.exp(-div*t)*stats.norm.cdf(cp*d1)) - (cp*k*math.exp(-rf*t)*stats.norm.cdf(cp*d2))\n",
        "#         d1 = (np.log(np.array(s)/k) + (rf+0.5*math.pow(v,2))*np.array(t))/(v*math.sqrt(np.array(t)))\n",
        "        d11 = np.log(np.array([s])/k)\n",
        "#         print(d11.shape)\n",
        "        d12 = (rf+0.5*math.pow(v,2))*np.array([t])\n",
        "        d13 = (v*np.sqrt([t])).T\n",
        "#         print(np.add(d11, d12.T) )\n",
        "        d1 = np.add(d11, d12.T) / d13\n",
        "#         print( d1 )\n",
        "        d2 = np.subtract(d1, d13)\n",
        "        optprice11 = (cp*np.array([s])*np.exp(-div*np.array([t]).T)*stats.norm.cdf(cp*d1))\n",
        "        optprice12 = (cp*k*np.exp(-rf*np.array([t]).T)*stats.norm.cdf(cp*d2))\n",
        "        d = (optprice11-optprice12)\n",
        "#         print( optprice11-optprice12 )\n",
        "#         + (rf+0.5*math.pow(v,2))*np.array(t))/(v*math.sqrt(np.array(t)))\n",
        "#         print(optprice11.shape)\n",
        "        return d\n",
        "\n",
        "def black_scholes2(row):\n",
        "    if row['option']=='C':\n",
        "        cp=1\n",
        "    else:\n",
        "        cp=-1\n",
        "#     print(black_scholes (cp, row.S, row.K, row['T'], row.sigma/100, row.r, 0))\n",
        "    return black_scholes (cp, row.S, row.K, row['T'], row.sigma/100, row.r, 0)\n",
        "\n",
        "# print(black_scholes (1, bought['sT'][0], 50, bought['T'][0][161], 32.3085/100, 0.002, 0)   )\n",
        "# df[df['contractName']=='WFC210917C00050000']\n",
        "# bought['T'][0].shape\n",
        "# k=0\n",
        "# a = call_bs_payoff(bought['sT'][k], bought['strike_price'][k], black_scholes(1, bought['sT'][k], bought.strike_price[k], bought['T'][k], bought.sigma[k], bought.r[k], 0))\n",
        "# a[152]\n",
        "# df[df['contractName']=='WFC210917C00050000']\n",
        "# b=black_scholes(1, bought['sT'][k], bought.strike_price[k], bought['T'][k], bought.sigma[k]/100, bought.r[k], 0)\n",
        "# b[161]\n",
        "# bought['sT'][0].shape\n",
        "# bs = black_scholes (1, bought['sT'][0], 50, bought['T'][0][161], 32.3085/100, 0.002, 0)\n",
        "# bs[0][39]"
      ],
      "execution_count": null,
      "outputs": []
    },
    {
      "cell_type": "code",
      "metadata": {
        "id": "5uo8Kw_xZNkz",
        "outputId": "ee7eb0d5-6d9c-4ab2-f2fb-31e4b8d355f7"
      },
      "source": [
        "# Bring the theoretical price from previous dataset\n",
        "from math import log, sqrt, pi, exp\n",
        "from scipy.stats import norm\n",
        "import re\n",
        "pd.set_option('display.max_rows', None)\n",
        "\n",
        "bought_real = [['WFC210917C00055000', -5, 0.68],\n",
        "          ['WFC210917C00052500', 4, 1.23],\n",
        "['WFC210917C00050000', -4, 1.12],\n",
        "['WFC210917C00047500', 2, 1.46],\n",
        "['WFC210917C00042500', 1, 3.66],\n",
        "['WFC210917P00030000', -1, 0.46],\n",
        "['WFC210917P00045000', 1, 3.1],\n",
        "              ['WFC210917P00042500', -1, 2.01],\n",
        "              ['WFC210917P00037500', 1, 0.8],\n",
        "              ['WFC210917P00025000', 1, 0.45],\n",
        "              ['WFC210917P00022500', -3, 0.47]]\n",
        "df = get_init_df(df_opts)\n",
        "strike_max = 2*int(df.strike.max())\n",
        "\n",
        "premium = 0\n",
        "\n",
        "def get_bought(bought_real, df, strike_max):\n",
        "    bought = pd.DataFrame(bought_real, columns = ['contractName', 'items', 'avg_price'])\n",
        "    bought['symbol'] = bought['contractName'].str.extract(r'(?P<Str>\\w[^\\d]+)', expand=False)\n",
        "    bought['expirationDate'] = bought['contractName'].str.extract('(?P<Str>\\d{6})', expand=True).astype('datetime64[ms]')\n",
        "    bought['option'] = bought['contractName'].str.extract(r'\\d+([CP])\\d+', expand=False)\n",
        "    bought['strike_price'] = bought['contractName'].str.extract(r'(\\d+)$', expand=False).astype('float')/1000\n",
        "    # print(bought)\n",
        "    bought['sT'] = bought.strike_price.apply(lambda x: np.arange(1, np.int(strike_max),1) )\n",
        "    bought['cp'] = bought.option.apply(lambda x: 1 if x=='call' else -1 )\n",
        "    bought['optionPayoff'] =bought.apply(lambda x: 100*x['items']*call_payoff (x['sT'], x['strike_price'], x['avg_price']) if x['option']=='C'  \\\n",
        "                                         else 100*x['items']*put_payoff (x['sT'], x['strike_price'], x['avg_price']), axis = 1)\n",
        "    bought = pd.merge(bought, df, how = 'left', on = 'contractName') \n",
        "    # print(bought)\n",
        "    bought['theor_optPayoff'] =bought.apply(lambda x: 100*x['items']*call_payoff (x['sT'], x['strike_price'], x['theoretical']) if x['option']=='C'  \\\n",
        "                                         else 100*x['items']*put_payoff (x['sT'], x['strike_price'], x['theoretical']), axis = 1)\n",
        "    bought['T'] = bought.daysBeforeExpiration.apply(lambda x: (np.arange(1,np.int(x),1)/365) )\n",
        "    bought['days_array'] = bought.daysBeforeExpiration.apply(lambda x: (np.arange(1,np.int(x),1)) )\n",
        "\n",
        "    bought['K'] = bought['strike_price']\n",
        "    bought['S'] = bought['sT']\n",
        "    bought['r'] = 0.002\n",
        "    bought['sigma'] = bought['impliedVolatility'].astype('float')\n",
        "    bought['option_type'] = bought['type'].str.lower()\n",
        "\n",
        "    bought['bs'] = bought.apply(black_scholes2, axis=1)\n",
        "    bought['bs_Payoff'] =bought.apply(lambda x: 100*np.abs(x['items'])*call_bs_payoff (x['sT'], x['strike_price'], x['bs'],x['avg_price'], x['items']  ) if x['option']=='C'  \\\n",
        "                                         else 100*np.abs(x['items'])*put_bs_payoff (x['sT'], x['strike_price'], x['bs'], x['avg_price'], x['items'] ), axis = 1)\n",
        "    payoff_straddle = np.sum(bought.optionPayoff)\n",
        "    theor_payoff_straddle = np.sum(bought.theor_optPayoff)\n",
        "    bb =np.stack(bought['bs_Payoff'])\n",
        "    # print(bought['bs_Payoff'][0][161])\n",
        "    b_s_payoff_straddle = np.sum(bb, axis=0)\n",
        "    return bought, b_s_payoff_straddle\n",
        "\n",
        "\n",
        "\n"
      ],
      "execution_count": null,
      "outputs": [
        {
          "name": "stdout",
          "output_type": "stream",
          "text": [
            "(640, 34)\n"
          ]
        }
      ]
    },
    {
      "cell_type": "code",
      "metadata": {
        "id": "BEmLmrVAd-DL"
      },
      "source": [
        "## Get all strikes in dataframe\n",
        "## calculate for each bs price in (spot_min, spot_max)\n",
        "## \n",
        "## union with bought\n",
        "# print(bought.expirationDate_x[0])\n",
        "def build_proposal(df, bought, it, strike_max):\n",
        "    df['symbol'] = df['contractName'].str.extract(r'(?P<Str>\\w[^\\d]+)', expand=False)\n",
        "    df['expirationDate'] = df['contractName'].str.extract('(?P<Str>\\d{6})', expand=True).astype('datetime64[ms]')\n",
        "    df=df[df['expirationDate']==bought.expirationDate_x[0]]\n",
        "    df['option'] = df['contractName'].str.extract(r'\\d+([CP])\\d+', expand=False)\n",
        "    df['strike_price'] = df['contractName'].str.extract(r'(\\d+)$', expand=False).astype('float')/1000\n",
        "    df['sT'] = df.strike_price.apply(lambda x: np.arange(1, np.int(strike_max),1) )\n",
        "    df['items'] = df.strike_price.apply(lambda x: np.linspace(-it, it, 2*it+1 , endpoint=True) )\n",
        "    df['cp'] = df.option.apply(lambda x: 1 if x=='call' else -1 )\n",
        "\n",
        "    # df = df.iloc[3:4]\n",
        "    # df = pd.merge(df, df, how = 'left', on = 'contractName') \n",
        "    # print(df)\n",
        "\n",
        "    df['T'] = df.daysBeforeExpiration.apply(lambda x: (np.arange(1,np.int(x),1)/365) )\n",
        "    df['days_array'] = df.daysBeforeExpiration.apply(lambda x: (np.arange(1,np.int(x),1)) )\n",
        "\n",
        "    df['K'] = df['strike_price']\n",
        "    df['S'] = df['sT']\n",
        "    df['r'] = 0.002\n",
        "    df['sigma'] = df['impliedVolatility'].astype('float')\n",
        "    df['option_type'] = df['type'].str.lower()\n",
        "    df['bs'] = df.apply(black_scholes2, axis=1)\n",
        "#     df['bs_Payoff'] =df.apply(lambda x: call_fut_payoff (x['sT'], x['strike_price'], x['bs'],x['theoretical'], 1, x['cp']  ) if x['option']=='C'  \\\n",
        "#                                          else put_fut_payoff (x['sT'], x['strike_price'], x['bs'], x['theoretical'], 1, x['cp'] ), axis = 1)\n",
        "    df['long_pl'] =df.apply(lambda x: call_fut_payoff (x['sT'], x['strike_price'], x['bs'],x['theoretical'], 1,   ), axis = 1)\n",
        "    df['short_pl'] =df.apply(lambda x: call_fut_payoff (x['sT'], x['strike_price'], x['bs'],x['theoretical'], -1  ) , axis = 1)\n",
        "    return df\n",
        "\n",
        "def build_second_proposal(df, bought, it, strike_max, pidx, didx):\n",
        "    df['symbol'] = df['contractName'].str.extract(r'(?P<Str>\\w[^\\d]+)', expand=False)\n",
        "    df['expirationDate'] = df['contractName'].str.extract('(?P<Str>\\d{6})', expand=True).astype('datetime64[ms]')\n",
        "    df=df[df['expirationDate']==bought.expirationDate_x[0]]\n",
        "    df['option'] = df['contractName'].str.extract(r'\\d+([CP])\\d+', expand=False)\n",
        "    df['strike_price'] = df['contractName'].str.extract(r'(\\d+)$', expand=False).astype('float')/1000\n",
        "    df['sT'] = df.strike_price.apply(lambda x: np.arange(1, np.int(strike_max),1) )\n",
        "    df['items'] = df.strike_price.apply(lambda x: np.linspace(-it, it, 2*it+1 , endpoint=True) )\n",
        "    df['cp'] = df.option.apply(lambda x: 1 if x=='call' else -1 )\n",
        "\n",
        "    # df = df.iloc[3:4]\n",
        "    # df = pd.merge(df, df, how = 'left', on = 'contractName') \n",
        "    # print(df)\n",
        "\n",
        "    df['T'] = df.daysBeforeExpiration.apply(lambda x: (np.arange(1,np.int(x),1)/365) )\n",
        "    df['days_array'] = df.daysBeforeExpiration.apply(lambda x: (np.arange(1,np.int(x),1)) )\n",
        "\n",
        "    df['K'] = df['strike_price']\n",
        "    df['S'] = df['sT']\n",
        "    df['r'] = 0.002\n",
        "    df['sigma'] = df['impliedVolatility'].astype('float')\n",
        "    df['option_type'] = df['type'].str.lower()\n",
        "    df['bs'] = df.apply(black_scholes2, axis=1)\n",
        "#     df['bs_Payoff'] =df.apply(lambda x: call_fut_payoff (x['sT'], x['strike_price'], x['bs'],x['theoretical'], 1, x['cp']  ) if x['option']=='C'  \\\n",
        "#                                          else put_fut_payoff (x['sT'], x['strike_price'], x['bs'], x['theoretical'], 1, x['cp'] ), axis = 1)\n",
        "    df['long_pl'] =df.apply(lambda x: call_fut_payoff (x['sT'], x['strike_price'], x['bs'],x['bs'][didx][pidx], 1,   ), axis = 1)\n",
        "    df['short_pl'] =df.apply(lambda x: call_fut_payoff (x['sT'], x['strike_price'], x['bs'],x['bs'][didx][pidx], -1  ) , axis = 1)\n",
        "    return df\n",
        "\n",
        "def put_fut_payoff(sT, strike_price, bs, premium, ls):\n",
        "#     return np.subtract(np.where(np.array(sT) < strike_price, strike_price - np.array(sT), 0) , bs)\n",
        "#     cp = np.nan_to_num(items/np.abs(items))\n",
        "#     print(cp)\n",
        "    a=(np.add(ls*bs, (-ls)*premium) )\n",
        "    return a\n",
        "\n",
        "def call_fut_payoff(sT, strike_price, bs, premium, ls):\n",
        "#     cp = np.nan_to_num(items/np.abs(items))\n",
        "#     print(cp)\n",
        "#     a= np.where(np.array(sT) > strike_price, np.array(sT) - strike_price, 0)\n",
        "#     print('bs')\n",
        "#     print(bs)\n",
        "#     print('payoff')\n",
        "#     print(np.where(np.array(sT) > strike_price, np.array(sT) - strike_price, 0))\n",
        "#     print((-cp)*premium)\n",
        "#     print((np.array(cp[:,None, None])*bs).shape)\n",
        "    a=(np.add(ls*bs, (-ls)*premium) )\n",
        "#     print(a.shape)\n",
        "    return a\n",
        "\n",
        "# df =  build_proposal(df, bought, 4)\n",
        "\n",
        "# call_fut_payoff (df['sT'].iloc[0], df['strike_price'].iloc[0], df['bs'].iloc[0], df['theoretical'].iloc[0], df['items'].iloc[0])\n"
      ],
      "execution_count": null,
      "outputs": []
    },
    {
      "cell_type": "code",
      "metadata": {
        "id": "EdHnK69bd-DM"
      },
      "source": [
        "import warnings\n",
        "warnings.filterwarnings('ignore')\n",
        "from scipy.optimize import minimize\n",
        "from scipy.integrate import simps\n",
        "from scipy import integrate\n",
        "from numpy import trapz\n",
        "# spot_min = 10\n",
        "# spot_max = 70\n",
        "\n",
        "\n",
        "def getaux(df, bought, it, spot_min, spot_max, dbe, b_s_payoff_straddle):\n",
        "    half_dbe = dbe//2\n",
        "    df = build_proposal(df, bought, it, strike_max)\n",
        "    dfpl=np.stack(df['long_pl'])\n",
        "    dfps=np.stack(df['short_pl'])\n",
        "    dfpl = np.moveaxis(dfpl, 1, 0)\n",
        "    dfps = np.moveaxis(dfps, 1, 0)\n",
        "    pc_l = dfpl[half_dbe][:,spot_min-1:spot_max]\n",
        "    pc_s = dfps[half_dbe][:,spot_min-1:spot_max]\n",
        "    pc2_l = dfpl[dbe][:,spot_min-1:spot_max]\n",
        "    pc2_s = dfps[dbe][:,spot_min-1:spot_max]\n",
        "    pc_final_l = dfpl[1][:,spot_min-1:spot_max]\n",
        "    pc_final_s = dfps[1][:,spot_min-1:spot_max]\n",
        "    pos = b_s_payoff_straddle[half_dbe][spot_min-1:spot_max]\n",
        "    pos_final = b_s_payoff_straddle[1][spot_min-1:spot_max]\n",
        "    pos2 = b_s_payoff_straddle[dbe][spot_min-1:spot_max]\n",
        "    return df, dfpl, dfps, pc_l, pc_s, pos, pc2_l, pc2_s, pc_final_l, pc_final_s, pos_final, pos2\n",
        "\n",
        "def get_future_proposals(df, bought, it, spot_min, spot_max, dbe,b_s_payoff_straddle, pidx, didx):\n",
        "    half_dbe = dbe//2\n",
        "    df = build_second_proposal(df, bought, it, strike_max, pidx, didx)\n",
        "    dfpl=np.stack(df['long_pl'])\n",
        "    dfps=np.stack(df['short_pl'])\n",
        "    dfpl = np.moveaxis(dfpl, 1, 0)\n",
        "    dfps = np.moveaxis(dfps, 1, 0)\n",
        "    pc2_l = dfpl[dbe][:,spot_min-1:spot_max]\n",
        "    pc2_s = dfps[dbe][:,spot_min-1:spot_max]\n",
        "    pc_final_l = dfpl[1][:,spot_min-1:spot_max]\n",
        "    pc_final_s = dfps[1][:,spot_min-1:spot_max]\n",
        "    pos = b_s_payoff_straddle[half_dbe][spot_min-1:spot_max]\n",
        "    pos_final = b_s_payoff_straddle[1][spot_min-1:spot_max]\n",
        "    pos2 = b_s_payoff_straddle[dbe][spot_min-1:spot_max]\n",
        "    return df, dfpl, dfps, pc_l, pc_s, pos, pc2_l, pc2_s, pc_final_l, pc_final_s, pos_final, pos2\n",
        "\n",
        "def optimize_fn(df, bought, it,b_s_payoff_straddle, spot_min, spot_max):\n",
        "    \n",
        "    \n",
        "    print(pc.shape)\n",
        "    short_lim = df[['strike_price', 'option']]\n",
        "    short_lim['current_spot'] = df_stock['Close'].iloc[-1]\n",
        "    short_lim['short_lim'] = short_lim.apply(lambda x: -1 if (x.current_spot<x.strike_price and x.option=='C')\\\n",
        "                                             or (x.current_spot>x.strike_price and x.option=='P') else 0, axis =1)\n",
        "    short_lim['call_lim'] = 1\n",
        "    short_lim['lim_bnds'] = short_lim.apply(lambda x: np.array([x.short_lim , x.call_lim]) , axis=1)\n",
        "    max_items_per_contract = it\n",
        "    bnds = np.stack(max_items_per_contract*np.array(short_lim.lim_bnds))\n",
        "    cons = (\n",
        "        \n",
        "        {'type': 'ineq', 'fun': lambda x:  2-np.where((x<0.5) & (x>0.1),1,0).sum() },\n",
        "        {'type': 'ineq', 'fun': lambda x:  2-np.where((x<-0.1) & (x>-0.5),1,0).sum() },\n",
        "        {'type': 'ineq', 'fun': lambda x:  4 -   np.abs(np.round(x,2)).sum()},\n",
        "               {'type': 'ineq', 'fun': lambda x:  10-(np.round(x[:,None],0)*df.theoretical[:,None]).sum(0)},\n",
        "           {'type': 'ineq', 'fun': lambda x:  4 + np.round(np.where(x>0,x,0),0).sum(0)+ np.round(np.where(x<0,x,0),0).sum(0)}\n",
        "           )                                  \n",
        "    result = minimize(objective, np.zeros(pc.shape[0]), method='trust-constr', options={ 'xtol': 1e-08, \\\n",
        "                                                                                        'gtol': 1e-08, \n",
        "                                                                                        'barrier_tol': 1e-06,\n",
        "                                                                                        'sparse_jacobian': None, \n",
        "                                                                                        'maxiter': 100000,\n",
        "                                                                                        'disp':True}, \\\n",
        "                      bounds = bnds, constraints = cons)\n",
        "    df['items2'] = np.round(result.x, 0)\n",
        "    return df, result\n",
        "\n",
        "\n",
        "\n",
        "def objective(x):\n",
        "    x=x[:,None]\n",
        "#     print(pos.shape)\n",
        "#     print((100*x*pc+pos).shape)\n",
        "    a = (100*(x)*pc+pos)\n",
        "#     b = (100*x*pc2+pos2)\n",
        "#     print(a)\n",
        "    a = np.sum(a, axis=0)\n",
        "#     b = np.sum(b, axis=0)\n",
        "#     a = a+b\n",
        "#     print(a)\n",
        "#     res = -(np.where(a<0,a,0))\n",
        "#     res = -(a)\n",
        "#     area = simps(res, dx=1)\n",
        "    area = -np.trapz(a[a<0])\n",
        "#     area = -np.trapz(-a[a<0])*(np.abs(max(a[a>0])))\n",
        "#     return -(a[a<0].min())/100000\n",
        "    r=np.sum(np.where((100*x*pc+pos)<0,1,0))/np.sum(np.where((100*x*pc+pos)>0,1,0))\n",
        "#     return area/1000\n",
        "#     return area\n",
        "#     area = integrate.quad(a, 1.0*spot_min, 1.0*spot_max)\n",
        "    return -area/10000\n",
        "\n",
        "# objective(np.ones(36))\n",
        "# cons = ({'type': 'ineq', 'fun': lambda x:  100- np.abs(x).sum(0)},\n",
        "#        {'type': 'ineq', 'fun': lambda x:  4 + np.where(x>0,x,0).sum(0)\\\n",
        "#         - np.where(x<0,x,0).sum(0)})\n",
        "\n",
        "# np.array_split(x, 2)\n",
        "# define the starting point as a random sample from the domain\n",
        "# pt = r_min + rand(2) * (r_max - r_min)\n",
        "# perform the l-bfgs-b algorithm search\n",
        "\n",
        "# df, dfp, pc, pos, pc2, pos2 =  getaux(df, bought, it, spot_min, spot_max, dbe)\n",
        "# df, result = optimize_fn(df, bought, it,b_s_payoff_straddle, np.round(current_spot*0.2).astype('int'), np.round(current_spot*1.2).astype('int'))\n",
        "\n",
        "# # df['items2']\n",
        "# new_df = pd.DataFrame(np.round(result.x, 2),[df.contractName, df.theoretical])\n",
        "\n",
        "\n",
        "# # new_df.head()\n",
        "# print((np.array(np.round(result.x, 2))*df.theoretical).sum())\n",
        "# print(result.success)\n",
        "# new_df.reindex(new_df[0].abs().sort_values(ascending=False).index)\n",
        "# dfp2=np.stack(df['bs_Payoff'])\n",
        "# dfp2.shape"
      ],
      "execution_count": null,
      "outputs": []
    },
    {
      "cell_type": "code",
      "metadata": {
        "id": "J3v_f_OVd-DM"
      },
      "source": [
        "from mip import *\n",
        "import pulp as plp\n",
        "\n",
        "def get_lb(i, df, current_spot, move):\n",
        "    res = 0\n",
        "    return res\n",
        "\n",
        "def get_ub(i, df, current_spot, move):\n",
        "    res =0\n",
        "    if (df.option.iloc[i]=='C'):\n",
        "        if move=='lc':\n",
        "            res=1\n",
        "        elif move == 'sc':\n",
        "            if (((df.strike.iloc[i] < current_spot) )) :\n",
        "                res = 0\n",
        "            else:\n",
        "                res=1      \n",
        "    else:\n",
        "        if move == 'lp':\n",
        "            res=1\n",
        "        elif move == 'sp':\n",
        "            if ((df.strike.iloc[i] > current_spot) ) :\n",
        "                res = 0\n",
        "            else:\n",
        "                res=1  \n",
        "    return res\n",
        "def get_theoretical(i, df):\n",
        "    return df.theoretical.iloc[i]\n",
        "\n",
        "def get_bs_theoretical(i, df, day, price):\n",
        "    if not day:\n",
        "        return df.theoretical.iloc[i]\n",
        "    else:\n",
        "        return df.bs.iloc[i][day][price]\n",
        "    \n",
        "def get_dzidx(df_stock, spot, price_range):\n",
        "    danger_zone = range(round(spot - df_stock.Boli_int.iloc[-1]/2).astype('int'),\\\n",
        "                        round(spot + df_stock.Boli_int.iloc[-1]/2).astype('int') )\n",
        "    dzidx= [price_range.index(x) for x in danger_zone]\n",
        "    return dzidx, danger_zone\n",
        "\n",
        "def get_weights(pc):\n",
        "#     print(spot)\n",
        "    a=(np.split(np.arange(pc[0].shape[0]),2))\n",
        "    a1=(a[0]/len(a[0]))\n",
        "    a2=(np.flip(a[1]-a[1][0])/len(a[1]))\n",
        "    w=(np.concatenate([a1,a2]))\n",
        "    return w\n",
        "\n",
        "# get_weights(df_stock, current_spot, pc2_l)\n"
      ],
      "execution_count": null,
      "outputs": []
    },
    {
      "cell_type": "code",
      "metadata": {
        "id": "4mcR81czd-DN"
      },
      "source": [
        "# # if x is Continuous\n",
        "# x_vars  = {(i,j):\n",
        "# plp.LpVariable(cat=plp.LpContinuous, \n",
        "#                lowBound=l[i,j], upBound=u[i,j], \n",
        "#                name=\"x_{0}_{1}\".format(i,j)) \n",
        "# for i in set_I for j in set_J}\n",
        "# # if x is Binary\n",
        "# x_vars  = {(i,j):\n",
        "# plp.LpVariable(cat=plp.LpBinary, name=\"x_{0}_{1}\".format(i,j)) \n",
        "# for i in set_I for j in set_J}\n",
        "# if x is Integer\n",
        "n = (df.shape[0])\n",
        "move_set = ['lc',  'lp', 'sc', 'sp']\n",
        "it=4\n",
        "bnd = it\n",
        "def add_vars(bnd, df_contracts, current_spot, move_set):\n",
        "    x_vars  = {(i,j):\n",
        "    plp.LpVariable(cat=plp.LpInteger, \n",
        "                   lowBound=bnd*get_lb(i, df_contracts,current_spot, move_set[j]),\\\n",
        "                   upBound= bnd*get_ub(i, df_contracts,current_spot, move_set[j]),\n",
        "                   name=\"x_\"+df.contractName.iloc[i]+\"_\"+move_set[j]) \n",
        "    for i in range(df_contracts.shape[0]) for j in range(len(move_set)) }\n",
        "    return x_vars\n"
      ],
      "execution_count": null,
      "outputs": []
    },
    {
      "cell_type": "code",
      "metadata": {
        "id": "D52oQfNRd-DN"
      },
      "source": [
        "# Less than equal constraints\n",
        "def add_constr(x_vars, opt_model,dzidx,df_contracts, dfpl, dfps, pc_l, pc_s, pos, pc2_l, pc2_s, pc_final_l, pc_final_s, pos_final, pos2, day, price):\n",
        "#     print(range(len(pc_l[0])))\n",
        "    constraints_mid = {k : opt_model.addConstraint(\n",
        "    plp.LpConstraint(\n",
        "                 e=plp.lpSum(100*pc_l[i][k] * x_vars[i,j] for j in [0,1] for i in range(df_contracts.shape[0])) + \n",
        "                    plp.lpSum(+100*pc_s[i][k] * x_vars[i,j] for j in [2,3] for i in range(df_contracts.shape[0]))+\n",
        "                    pos[k],\n",
        "                 sense=plp.LpConstraintGE,\n",
        "                 rhs=0,\n",
        "                 name=\"constraint_mid_{0}\".format(k)))\n",
        "           for k in range(len(pc_l[0]))}\n",
        "\n",
        "    constraints = {k : opt_model.addConstraint(\n",
        "    plp.LpConstraint(\n",
        "                 e=plp.lpSum(100*pc2_l[i][k] * x_vars[i,j] for j in [0,1] for i in range(df_contracts.shape[0])) + \n",
        "                    plp.lpSum(+100*pc2_s[i][k] * x_vars[i,j] for j in [2,3] for i in range(df_contracts.shape[0]))+\n",
        "                    pos2[k],\n",
        "                 sense=plp.LpConstraintGE,\n",
        "                 rhs=0,\n",
        "                 name=\"constraint_{0}\".format(k)))\n",
        "           for k in range(len(pc_l[0]))}\n",
        "\n",
        "    constraints_final = {k : opt_model.addConstraint(\n",
        "    plp.LpConstraint(\n",
        "                 e=plp.lpSum(100*pc_final_l[i][k] * x_vars[i,j] for j in [0,1] for i in range(df_contracts.shape[0])) + \n",
        "                    plp.lpSum(+100*pc_final_s[i][k] * x_vars[i,j] for j in [2,3] for i in range(df_contracts.shape[0]))+\n",
        "                    pos_final[k],\n",
        "                 sense=plp.LpConstraintGE,\n",
        "                 rhs=0,\n",
        "                 name=\"constraint_final_{0}\".format(k)))\n",
        "           for k in range(len(pc_l[0])) }\n",
        "\n",
        "\n",
        "    # >= constraints\n",
        "    constraints_sclc = {0 : opt_model.addConstraint(\n",
        "    plp.LpConstraint(\n",
        "                 e=-plp.lpSum( x_vars[i,j] for j in [0] for i in range(df_contracts.shape[0])) + \n",
        "                    plp.lpSum( x_vars[i,j] for j in [2] for i in range(df_contracts.shape[0])) ,\n",
        "                 sense=plp.LpConstraintLE,\n",
        "                 rhs=2,\n",
        "                 name=\"constraint_sc<lc+2\"))\n",
        "           }\n",
        "    constraints_splp = {0 : opt_model.addConstraint(\n",
        "    plp.LpConstraint(\n",
        "                 e=-plp.lpSum( x_vars[i,j] for j in [1] for i in range(df_contracts.shape[0])) + \n",
        "                    plp.lpSum( x_vars[i,j] for j in [3] for i in range(df_contracts.shape[0])) ,\n",
        "                 sense=plp.LpConstraintLE,\n",
        "                 rhs=2,\n",
        "                 name=\"constraint_sp<lp+2\"))\n",
        "           }\n",
        "    constraints3 = {0 : opt_model.addConstraint(\n",
        "    plp.LpConstraint(\n",
        "                 e=+plp.lpSum( x_vars[i,j] for j in [0,1] for i in range(df_contracts.shape[0])) + \n",
        "                    plp.lpSum( x_vars[i,j] for j in [2,3] for i in range(df_contracts.shape[0])) ,\n",
        "                 sense=plp.LpConstraintLE,\n",
        "                 rhs=10,\n",
        "                 name=\"constraint3\"))\n",
        "           }\n",
        "    constraints4 = {0 : opt_model.addConstraint(\n",
        "    plp.LpConstraint(\n",
        "                 e=+plp.lpSum( 100*x_vars[i,j]*get_bs_theoretical(i, df_contracts, day, price) for j in [0,1] for i in range(df_contracts.shape[0])) ,\n",
        "                 sense=plp.LpConstraintLE,\n",
        "                 rhs=500,\n",
        "                 name=\"constraint4\"))\n",
        "           }\n",
        "    return constraints_mid, constraints,constraints_final,\\\n",
        "            constraints_sclc, constraints_splp, constraints3,\\\n",
        "            constraints4\n",
        "\n",
        "# # == constraints\n",
        "# constraints = {j : opt_model.addConstraint(\n",
        "# plp.LpConstraint(\n",
        "#              e=plp.lpSum(a[i,j] * x_vars[i,j] for i in set_I),\n",
        "#              sense=plp.LpConstraintEQ,\n",
        "#              rhs=b[j],\n",
        "#              name=\"constraint_{0}\".format(j)))\n",
        "#        for j in set_J}"
      ],
      "execution_count": null,
      "outputs": []
    },
    {
      "cell_type": "code",
      "metadata": {
        "id": "ysCX-3oPd-DN"
      },
      "source": [
        "# objective = plp.lpSum(plp.lpSum(100*pc2_l[i][k] * x_vars[i,j] for j in [0,1] for i in range(n)) + \n",
        "#                 plp.lpSum(+100*pc2_s[i][k] * x_vars[i,j] for j in [2,3] for i in range(n)) \n",
        "#                  +pos2[k] for k in range(len(pc_l[0])) )  / len(pc_l[0])  \n",
        "\n",
        "def add_objective(x_vars,pc2_l, pc2_s, dzidx):\n",
        "    w=get_weights(pc2_l)\n",
        "    objective = plp.lpSum(plp.lpSum(100*w[k]*pc2_l[i][k] * x_vars[i,j] for j in [0,1] for i in range(df_contracts.shape[0])) + \n",
        "                plp.lpSum(+100*w[k]*pc2_s[i][k] * x_vars[i,j] for j in [2,3] for i in range(df_contracts.shape[0])) \n",
        "                 +pos2[k] for k in range(len(pc_l[0])) )  / len(range(len(pc_l[0])))\n",
        "    return objective\n",
        "\n",
        "# pc2_l.shape"
      ],
      "execution_count": null,
      "outputs": []
    },
    {
      "cell_type": "code",
      "metadata": {
        "id": "pMNp1Dzmd-DN"
      },
      "source": [
        "def get_model_results(x_vars, nm, df_contracts):\n",
        "    opt_df = pd.DataFrame.from_dict(x_vars, orient=\"index\", \n",
        "                                columns = [\"variable_object\"])\n",
        "    opt_df.index = pd.MultiIndex.from_tuples(opt_df.index, \n",
        "                                   names=[\"column_i\", \"column_j\"])\n",
        "    opt_df.reset_index(inplace=True)\n",
        "    # # Gurobi\n",
        "    # opt_df[\"solution_value\"] = \n",
        "    #   opt_df[\"variable_object\"].apply(lambda item: item.X)\n",
        "    # # CPLEX\n",
        "    # opt_df[\"solution_value\"] = \n",
        "    #   opt_df[\"variable_object\"].apply(lambda item: item.solution_value)\n",
        "    # PuLP\n",
        "    opt_df[\"solution_value\"] =  opt_df[\"variable_object\"].apply(lambda item: item.varValue)\n",
        "    opt_df.drop(columns=[\"variable_object\"], inplace=True)\n",
        "    opt_df.to_csv(\"./optimization_solution\"+nm+\".csv\")\n",
        "    # opt_df['column_j_'] = opt_df['column_j'].apply(lambda x: )\n",
        "#     print(opt_df)\n",
        "    sol = opt_df[opt_df['solution_value']>0]\n",
        "\n",
        "#     df_contracts.contractName.iloc[sol['column_i'][:]], [move_set[i] for i in sol['column_j'].to_list()], a\n",
        "    # a['items2'] = a.column_i.apply()\n",
        "    sol['contractName']=sol.column_i.apply(lambda x: df_contracts.contractName.iloc[x] )\n",
        "    sol['avg_price'] =sol.column_i.apply(lambda x: df_contracts.theoretical.iloc[x] )\n",
        "#     print(sol)\n",
        "    sol['items_l'] = sol.apply(lambda x: 1.0*x.solution_value if x.column_j in [0,1] else 0  , axis=1)\n",
        "    sol['items_s'] = sol.apply(lambda x: 1.0*x.solution_value if x.column_j in [2,3] else 0  , axis=1)\n",
        "    sol['items2'] = sol.apply(lambda x: -x.solution_value if x.column_j in [2,3] else x.solution_value, axis=1)\n",
        "#     print(sol)\n",
        "    df_contracts_ext = pd.merge(df_contracts,sol , how = 'left', on='contractName')\n",
        "    df_contracts_ext['items_l'] = df_contracts_ext['items_l'].fillna(0)\n",
        "    df_contracts_ext['items_s'] = df_contracts_ext['items_s'].fillna(0)\n",
        "#     print(df_contracts_ext.iloc[0])\n",
        "    df_contracts_ext['to_pay'] = df_contracts_ext.apply(lambda x: x.items_l*x.theoretical, axis=1)\n",
        "    df_contracts_ext['long_pl_n'] =df_contracts_ext.apply(lambda x: 100*(x['items_l'])*x.long_pl, axis = 1)\n",
        "    df_contracts_ext['short_pl_n'] =df_contracts_ext.apply(lambda x: 100*(x['items_s'])*x.short_pl, axis = 1)\n",
        "    df_contracts_ext['items'] =df_contracts_ext.apply(lambda x: -x['items_s'] if x.column_j>=2 else x['items_l'], axis = 1)\n",
        "    return sol, df_contracts_ext"
      ],
      "execution_count": null,
      "outputs": []
    },
    {
      "cell_type": "code",
      "metadata": {
        "id": "yTM5P_jDd-DO"
      },
      "source": [
        "def optimizr(nm_model, bnd, df_contracts, current_spot, move_set,dfpl, dfps, pc_l, pc_s, pos, pc2_l, pc2_s, pc_final_l, pc_final_s, pos_final, pos2, dzidx, day, price ):\n",
        "    opt_model = plp.LpProblem(name=nm_model)\n",
        "    x_vars = add_vars(bnd, df_contracts, current_spot, move_set)\n",
        "    constraints_mid, constraints,constraints_final,\\\n",
        "                constraints_sclc, constraints_splp, constraints3,\\\n",
        "                constraints4 = add_constr(x_vars,opt_model,dzidx,df_contracts, dfpl, dfps, pc_l, pc_s, pos, pc2_l, pc2_s, pc_final_l, pc_final_s, pos_final, pos2, day, price)\n",
        "    objective=add_objective(x_vars,pc2_l, pc2_s, dzidx)\n",
        "    # for maximization\n",
        "    opt_model.sense = plp.LpMaximize\n",
        "    # # for minimization\n",
        "    # opt_model.sense = plp.LpMinimize\n",
        "    opt_model.setObjective(objective)\n",
        "    # solving with CBC\n",
        "    sols=opt_model.solve()\n",
        "#     print(opt_model)\n",
        "    sol, df_contracts_ext = get_model_results(x_vars, nm_model, df_contracts)\n",
        "    return opt_model, sol , df_contracts_ext, sols\n",
        "    # solving with Glpk\n",
        "    # opt_model.solve(solver = GLPK_CMD())"
      ],
      "execution_count": null,
      "outputs": []
    },
    {
      "cell_type": "code",
      "metadata": {
        "id": "CP0dD0T4d-DO",
        "outputId": "6406f0e3-8c49-4af7-9c5f-11a0bcc5c806"
      },
      "source": [
        "dbe = df['daysBeforeExpiration'].iloc[0]-2\n",
        "half_dbe = dbe//2\n",
        "# objective function\n",
        "df_cons_init = get_init_df(df_opts)\n",
        "bought, b_s_payoff_straddle = get_bought(bought_real, df_cons_init, strike_max)\n",
        "spot_min = np.round(current_spot*0.5).astype('int')\n",
        "spot_max = np.round(current_spot*1.3).astype('int')\n",
        "price_range = range(spot_min-1, spot_max)\n",
        "dzidx, danger_zone = get_dzidx(df_stock, current_spot, price_range)\n",
        "day = None\n",
        "price= None\n",
        "it =4\n",
        "df_contracts, dfpl, dfps, pc_l, pc_s, pos, pc2_l, pc2_s, pc_final_l, pc_final_s, pos_final, pos2 =  getaux(df_cons_init, bought, it, spot_min, spot_max, dbe,  b_s_payoff_straddle)\n",
        "print(1)\n",
        "current_spot\n",
        "nm_model = 'iter1'\n",
        "opt_model, sol_prop, df_contracts_ext_prop, suxs = optimizr(nm_model, it, df_contracts, current_spot, move_set,dfpl, dfps, pc_l, pc_s, pos, pc2_l, pc2_s, pc_final_l, pc_final_s, pos_final, pos2, dzidx, day, price )\n",
        "print(suxs)\n",
        "bought_proposal = bought_real.copy()\n",
        "\n",
        "bought_proposal.extend(sol_prop[['contractName', 'items2', 'avg_price' ]].values.tolist())\n",
        "bought_prop, b_s_payoff_prop = get_bought(bought_proposal, df, strike_max)\n",
        "bbdf =np.stack( df_contracts_ext_prop['long_pl_n'])\n",
        "bbdf2 = np.stack(df_contracts_ext_prop['short_pl_n'])\n",
        "# bbdf =np.stack(df['new_bs_Payoff'])\n",
        "\n",
        "# new_bs_Payoff\n",
        "# print(bought['bs_Payoff'][0][161])\n",
        "b_s_to_bought_payoff_straddle_prop = np.sum(bbdf, axis=0)+np.sum(bbdf2, axis=0)"
      ],
      "execution_count": null,
      "outputs": [
        {
          "name": "stdout",
          "output_type": "stream",
          "text": [
            "(640, 34)\n"
          ]
        },
        {
          "ename": "AttributeError",
          "evalue": "'int' object has no attribute 'astype'",
          "output_type": "error",
          "traceback": [
            "\u001b[1;31m---------------------------------------------------------------------------\u001b[0m",
            "\u001b[1;31mAttributeError\u001b[0m                            Traceback (most recent call last)",
            "\u001b[1;32m<ipython-input-23-dfe92dcd1dc5>\u001b[0m in \u001b[0;36m<module>\u001b[1;34m\u001b[0m\n\u001b[0;32m      7\u001b[0m \u001b[0mspot_max\u001b[0m \u001b[1;33m=\u001b[0m \u001b[0mnp\u001b[0m\u001b[1;33m.\u001b[0m\u001b[0mround\u001b[0m\u001b[1;33m(\u001b[0m\u001b[0mcurrent_spot\u001b[0m\u001b[1;33m*\u001b[0m\u001b[1;36m1.3\u001b[0m\u001b[1;33m)\u001b[0m\u001b[1;33m.\u001b[0m\u001b[0mastype\u001b[0m\u001b[1;33m(\u001b[0m\u001b[1;34m'int'\u001b[0m\u001b[1;33m)\u001b[0m\u001b[1;33m\u001b[0m\u001b[1;33m\u001b[0m\u001b[0m\n\u001b[0;32m      8\u001b[0m \u001b[0mprice_range\u001b[0m \u001b[1;33m=\u001b[0m \u001b[0mrange\u001b[0m\u001b[1;33m(\u001b[0m\u001b[0mspot_min\u001b[0m\u001b[1;33m-\u001b[0m\u001b[1;36m1\u001b[0m\u001b[1;33m,\u001b[0m \u001b[0mspot_max\u001b[0m\u001b[1;33m)\u001b[0m\u001b[1;33m\u001b[0m\u001b[1;33m\u001b[0m\u001b[0m\n\u001b[1;32m----> 9\u001b[1;33m \u001b[0mdzidx\u001b[0m\u001b[1;33m,\u001b[0m \u001b[0mdanger_zone\u001b[0m \u001b[1;33m=\u001b[0m \u001b[0mget_dzidx\u001b[0m\u001b[1;33m(\u001b[0m\u001b[0mdf_stock\u001b[0m\u001b[1;33m,\u001b[0m \u001b[0mcurrent_spot\u001b[0m\u001b[1;33m,\u001b[0m \u001b[0mprice_range\u001b[0m\u001b[1;33m)\u001b[0m\u001b[1;33m\u001b[0m\u001b[1;33m\u001b[0m\u001b[0m\n\u001b[0m\u001b[0;32m     10\u001b[0m \u001b[0mday\u001b[0m \u001b[1;33m=\u001b[0m \u001b[1;32mNone\u001b[0m\u001b[1;33m\u001b[0m\u001b[1;33m\u001b[0m\u001b[0m\n\u001b[0;32m     11\u001b[0m \u001b[0mprice\u001b[0m\u001b[1;33m=\u001b[0m \u001b[1;32mNone\u001b[0m\u001b[1;33m\u001b[0m\u001b[1;33m\u001b[0m\u001b[0m\n",
            "\u001b[1;32m<ipython-input-17-55cb38546dea>\u001b[0m in \u001b[0;36mget_dzidx\u001b[1;34m(df_stock, spot, price_range)\u001b[0m\n\u001b[0;32m     35\u001b[0m \u001b[1;33m\u001b[0m\u001b[0m\n\u001b[0;32m     36\u001b[0m \u001b[1;32mdef\u001b[0m \u001b[0mget_dzidx\u001b[0m\u001b[1;33m(\u001b[0m\u001b[0mdf_stock\u001b[0m\u001b[1;33m,\u001b[0m \u001b[0mspot\u001b[0m\u001b[1;33m,\u001b[0m \u001b[0mprice_range\u001b[0m\u001b[1;33m)\u001b[0m\u001b[1;33m:\u001b[0m\u001b[1;33m\u001b[0m\u001b[1;33m\u001b[0m\u001b[0m\n\u001b[1;32m---> 37\u001b[1;33m     danger_zone = range(round(spot - df_stock.Boli_int.iloc[-1]/2).astype('int'),\\\n\u001b[0m\u001b[0;32m     38\u001b[0m                         round(spot + df_stock.Boli_int.iloc[-1]/2).astype('int') )\n\u001b[0;32m     39\u001b[0m     \u001b[0mdzidx\u001b[0m\u001b[1;33m=\u001b[0m \u001b[1;33m[\u001b[0m\u001b[0mprice_range\u001b[0m\u001b[1;33m.\u001b[0m\u001b[0mindex\u001b[0m\u001b[1;33m(\u001b[0m\u001b[0mx\u001b[0m\u001b[1;33m)\u001b[0m \u001b[1;32mfor\u001b[0m \u001b[0mx\u001b[0m \u001b[1;32min\u001b[0m \u001b[0mdanger_zone\u001b[0m\u001b[1;33m]\u001b[0m\u001b[1;33m\u001b[0m\u001b[1;33m\u001b[0m\u001b[0m\n",
            "\u001b[1;31mAttributeError\u001b[0m: 'int' object has no attribute 'astype'"
          ]
        }
      ]
    },
    {
      "cell_type": "code",
      "metadata": {
        "id": "s3_izfhhd-DO",
        "outputId": "d539c88b-be48-4a11-e20d-35a6d54362a8"
      },
      "source": [
        "%matplotlib inline\n",
        "from ipywidgets import interactive\n",
        "payoff_straddle = np.sum(bought.optionPayoff)\n",
        "theor_payoff_straddle = np.sum(bought.theor_optPayoff)\n",
        "bb =np.stack(bought['bs_Payoff'])\n",
        "# print(bought['bs_Payoff'][0][161])\n",
        "b_s_payoff_straddle = np.sum(bb, axis=0)\n",
        "# b_s_payoff_straddle=b_s_payoff_straddle[spot_min-1, spot_max]\n",
        "# df['new_bs_Payoff'] =df.apply(lambda x: 100*np.abs(x['items2'])*call_bs_payoff (x['sT'], x['strike_price'], x['bs'],x['theoretical'], x['items2']  ) if x['option']=='C'  \\\n",
        "#                                      else 100*np.abs(x['items2'])*put_bs_payoff (x['sT'], x['strike_price'], x['bs'], x['theoretical'], x['items2'] ), axis = 1)\n",
        "\n",
        "\n",
        "\n",
        "\n",
        "\n",
        "def f(future_stock_price, days_drom_today, sudden_time):\n",
        "    fig, ax = plt.subplots()\n",
        "    ax.spines['top'].set_visible(False) # Top border removed \n",
        "    ax.spines['right'].set_visible(False) # Right border removed\n",
        "    ax.spines['bottom'].set_position('zero') # Sets the X-axis in the center\n",
        "    x = np.linspace(-10, 10, num=1000)\n",
        "    ax.plot(bought.sT.iloc[0],payoff_straddle,label='P_L_Final')\n",
        "#     ax.plot(bought.sT.iloc[0],b_s_payoff_straddle[days_drom_today],label='B_S_Straddle')\n",
        "    ax.plot(bought.sT.iloc[0],b_s_payoff_straddle[days_drom_today],label='P_L_per_Day')\n",
        "    ax.plot(bought.sT.iloc[0],b_s_payoff_straddle[days_drom_today]+b_s_to_bought_payoff_straddle_prop[days_drom_today],label='P_L_After_Prop_per_Day')\n",
        "#     ax.plot(bought.sT.iloc[0],+b_s_to_bought_payoff_straddle_prop[days_drom_today]\\\n",
        "#             + pl_holder_min[sudden_time][days_drom_today],label='P_L_After_Prop_per_Day_WhatIfLow', color = 'red', linestyle='dashed')\n",
        "#     ax.plot(bought.sT.iloc[0],+b_s_to_bought_payoff_straddle_prop[days_drom_today]\\\n",
        "#             + pl_holder_max[sudden_time][days_drom_today],label='P_L_After_Prop_per_Day_WhatIfHigh', color='black', linestyle='dotted')\n",
        "    plt.ylim(((b_s_payoff_straddle[days_drom_today]+b_s_to_bought_payoff_straddle_prop).min(),\n",
        "              (b_s_payoff_straddle[days_drom_today]+b_s_to_bought_payoff_straddle_prop[days_drom_today]).max()))\n",
        "    plt.ylim(-2500,2000)\n",
        "    plt.xlim(np.round(current_spot*0.2).astype('int'), np.round(current_spot*1.4).astype('int'))\n",
        "    plt.xlabel('Stock Price', ha='left')\n",
        "    plt.ylabel('Profit and loss')\n",
        "    plt.legend()\n",
        "    plt.show()\n",
        "\n",
        "    \n",
        "interactive_plot = interactive(f, future_stock_price=(1, bought.S.iloc[0].max().astype(int)-1)\\\n",
        "                               , days_drom_today=(1, bought['days_array'].iloc[0].max().astype(int)-1, 1)\\\n",
        "                              , sudden_time=(1, bought['days_array'].iloc[0].max().astype(int)-1, 1))\n",
        "output = interactive_plot.children[-1]\n",
        "output.layout.height = '600px'\n",
        "print('{} : {}'.format(spot_min, spot_max))\n",
        "print('Current_price : {}'.format(current_spot))\n",
        "print('Danger_Zone : {}'.format(danger_zone))\n",
        "print('Amount Spent : {}'.format(df_contracts_ext.to_pay.sum(0)))\n",
        "interactive_plot"
      ],
      "execution_count": null,
      "outputs": [
        {
          "name": "stdout",
          "output_type": "stream",
          "text": [
            "22 : 57\n",
            "Current_price : 43.49\n"
          ]
        },
        {
          "ename": "NameError",
          "evalue": "name 'danger_zone' is not defined",
          "output_type": "error",
          "traceback": [
            "\u001b[1;31m---------------------------------------------------------------------------\u001b[0m",
            "\u001b[1;31mNameError\u001b[0m                                 Traceback (most recent call last)",
            "\u001b[1;32m<ipython-input-24-2460a7095be8>\u001b[0m in \u001b[0;36m<module>\u001b[1;34m\u001b[0m\n\u001b[0;32m     45\u001b[0m \u001b[0mprint\u001b[0m\u001b[1;33m(\u001b[0m\u001b[1;34m'{} : {}'\u001b[0m\u001b[1;33m.\u001b[0m\u001b[0mformat\u001b[0m\u001b[1;33m(\u001b[0m\u001b[0mspot_min\u001b[0m\u001b[1;33m,\u001b[0m \u001b[0mspot_max\u001b[0m\u001b[1;33m)\u001b[0m\u001b[1;33m)\u001b[0m\u001b[1;33m\u001b[0m\u001b[1;33m\u001b[0m\u001b[0m\n\u001b[0;32m     46\u001b[0m \u001b[0mprint\u001b[0m\u001b[1;33m(\u001b[0m\u001b[1;34m'Current_price : {}'\u001b[0m\u001b[1;33m.\u001b[0m\u001b[0mformat\u001b[0m\u001b[1;33m(\u001b[0m\u001b[0mcurrent_spot\u001b[0m\u001b[1;33m)\u001b[0m\u001b[1;33m)\u001b[0m\u001b[1;33m\u001b[0m\u001b[1;33m\u001b[0m\u001b[0m\n\u001b[1;32m---> 47\u001b[1;33m \u001b[0mprint\u001b[0m\u001b[1;33m(\u001b[0m\u001b[1;34m'Danger_Zone : {}'\u001b[0m\u001b[1;33m.\u001b[0m\u001b[0mformat\u001b[0m\u001b[1;33m(\u001b[0m\u001b[0mdanger_zone\u001b[0m\u001b[1;33m)\u001b[0m\u001b[1;33m)\u001b[0m\u001b[1;33m\u001b[0m\u001b[1;33m\u001b[0m\u001b[0m\n\u001b[0m\u001b[0;32m     48\u001b[0m \u001b[0mprint\u001b[0m\u001b[1;33m(\u001b[0m\u001b[1;34m'Amount Spent : {}'\u001b[0m\u001b[1;33m.\u001b[0m\u001b[0mformat\u001b[0m\u001b[1;33m(\u001b[0m\u001b[0mdf_contracts_ext\u001b[0m\u001b[1;33m.\u001b[0m\u001b[0mto_pay\u001b[0m\u001b[1;33m.\u001b[0m\u001b[0msum\u001b[0m\u001b[1;33m(\u001b[0m\u001b[1;36m0\u001b[0m\u001b[1;33m)\u001b[0m\u001b[1;33m)\u001b[0m\u001b[1;33m)\u001b[0m\u001b[1;33m\u001b[0m\u001b[1;33m\u001b[0m\u001b[0m\n\u001b[0;32m     49\u001b[0m \u001b[0minteractive_plot\u001b[0m\u001b[1;33m\u001b[0m\u001b[1;33m\u001b[0m\u001b[0m\n",
            "\u001b[1;31mNameError\u001b[0m: name 'danger_zone' is not defined"
          ]
        }
      ]
    },
    {
      "cell_type": "code",
      "metadata": {
        "id": "dOPeZZind-DP"
      },
      "source": [
        "dzidx, danger_zone = get_dzidx(df_stock, spot, price_range)\n",
        "df_contracts, dfpl, dfps, pc_l, pc_s, pos, pc2_l, pc2_s, pc_final_l, pc_final_s, pos_final, pos2 =  getaux(get_init_df(df_opts), bought, it, spot_min, spot_max, dbe)\n",
        "current_spot\n",
        "nm_model = 'iter1'\n",
        "opt_model, a, df_contracts_ext, sols = optimizr(nm_model, it, df_contracts, current_spot, move_set,dfpl, dfps, pc_l, pc_s, pos, pc2_l, pc2_s, pc_final_l, pc_final_s, pos_final, pos2, dzidx )"
      ],
      "execution_count": null,
      "outputs": []
    },
    {
      "cell_type": "code",
      "metadata": {
        "id": "6WmmGS5vd-DP"
      },
      "source": [
        "\n",
        "# bought"
      ],
      "execution_count": null,
      "outputs": []
    },
    {
      "cell_type": "code",
      "metadata": {
        "id": "-IOM6dq3d-DP"
      },
      "source": [
        "sol_prop[['contractName', 'items2', 'avg_price' ]].values.tolist()"
      ],
      "execution_count": null,
      "outputs": []
    },
    {
      "cell_type": "code",
      "metadata": {
        "id": "gybOFSk1d-DP"
      },
      "source": [
        "payoff_straddle = np.sum(bought_prop.optionPayoff)\n",
        "theor_payoff_straddle = np.sum(bought_prop.theor_optPayoff)\n",
        "bb =np.stack(bought_prop['bs_Payoff'])\n",
        "# print(bought['bs_Payoff'][0][161])\n",
        "b_s_payoff_straddle = np.sum(bb, axis=0)\n",
        "b_s_payoff_straddle[0].shape\n",
        "# b_s_to_bought_payoff_straddle[0].shape\n",
        "days_drom_today=10\n",
        "bbdf =np.stack( df_contracts_ext['long_pl_n'])\n",
        "bbdf2 = np.stack(df_contracts_ext['short_pl_n'])\n",
        "# bbdf =np.stack(df['new_bs_Payoff'])\n",
        "\n",
        "# new_bs_Payoff\n",
        "# print(bought['bs_Payoff'][0][161])\n",
        "b_s_to_bought_payoff_straddle = np.sum(bbdf, axis=0)+np.sum(bbdf2, axis=0)\n",
        "# b_s_payoff_straddle[days_drom_today]+b_s_to_bought_payoff_straddle[days_drom_today]"
      ],
      "execution_count": null,
      "outputs": []
    },
    {
      "cell_type": "code",
      "metadata": {
        "id": "OwwwCbpzd-DP"
      },
      "source": [
        "# bought.sT.iloc[0][dzidx]\n",
        "# a= list(price_range)\n",
        "danger_zone[0], danger_zone[-1]\n",
        "# bought_prop.sT.iloc[0]\n",
        "dbe = df['daysBeforeExpiration'].iloc[0]-2\n",
        "half_dbe = dbe//2\n",
        "# objective function\n",
        "# bought_prop, b_s_payoff_prop = get_bought(bought_proposal, df, strike_max)\n",
        "spot_min = np.round(current_spot*0.5).astype('int')\n",
        "spot_max = np.round(current_spot*1.3).astype('int')\n",
        "price_range = range(spot_min-1, spot_max)\n",
        "dzidx, danger_zone = get_dzidx(df_stock, danger_zone[0], range(len(bought_prop.sT.iloc[0])))\n",
        "\n",
        "it =4\n",
        "df_contracts, dfpl, dfps, pc_l, pc_s, pos, pc2_l, pc2_s, pc_final_l, pc_final_s, pos_final, pos2 =  get_future_proposals(df_cons_init, bought_prop, it, spot_min, spot_max, dbe,  b_s_payoff_prop, pidx, didx)\n",
        "print(1)\n",
        "current_spot\n",
        "nm_model = 'iter_day_'+str()\n",
        "opt_model, sol, df_contracts_ext2, suxs = optimizr(nm_model, it, df_contracts, current_spot, move_set,dfpl, dfps, pc_l, pc_s, pos, pc2_l, pc2_s, pc_final_l, pc_final_s, pos_final, pos2, dzidx )"
      ],
      "execution_count": null,
      "outputs": []
    },
    {
      "cell_type": "code",
      "metadata": {
        "id": "HkCRzdIbd-DP"
      },
      "source": [
        "pidx"
      ],
      "execution_count": null,
      "outputs": []
    },
    {
      "cell_type": "code",
      "metadata": {
        "id": "HJukdI-Nd-DQ"
      },
      "source": [
        "dzidx, danger_zone = get_dzidx(df_stock, current_spot, range(len(bought_prop.sT.iloc[0])))\n",
        "dzidx, danger_zone,danger_zone[0]\n",
        "dzidx2, danger_zone2 = get_dzidx(df_stock, danger_zone[0], range(len(bought_prop.sT.iloc[0])))\n",
        "dzidx2, danger_zone2,danger_zone2[0]"
      ],
      "execution_count": null,
      "outputs": []
    },
    {
      "cell_type": "code",
      "metadata": {
        "scrolled": true,
        "id": "4u-g4Qdbd-DQ"
      },
      "source": [
        "# bought_prop.sT.iloc[0]\n",
        "dzidx, danger_zone = get_dzidx(df_stock, current_spot, range(len(bought_prop.sT.iloc[0])))\n",
        "dzidx, danger_zone,danger_zone[0]\n",
        "dbe = df_contracts['daysBeforeExpiration'].iloc[0]-2\n",
        "a=[]\n",
        "pl_holder_min=[]\n",
        "pl_holder_max=[]\n",
        "\n",
        "for i in range(0,dbe+1,1):\n",
        "    dzidx2, danger_zone2 = get_dzidx(df_stock, current_spot, range(len(bought_prop.sT.iloc[0])))\n",
        "#     print(dzidx2, danger_zone2)\n",
        "    it =4\n",
        "#     print(i)\n",
        "    df_contracts, dfpl, dfps, pc_l, pc_s, pos, pc2_l, pc2_s, pc_final_l, pc_final_s, pos_final, pos2 =  get_future_proposals(df_cons_init, bought_prop, it, spot_min, spot_max, dbe,  b_s_payoff_prop,danger_zone2[0], i)\n",
        "    t=pc_l\n",
        "    #     print(1)\n",
        "#     current_spot\n",
        "    nm_model = 'prophet_low_day_'+str(i)\n",
        "    opt_model, sol, df_contracts_ext, suxs = optimizr(nm_model, it, df_contracts, danger_zone[0], move_set,dfpl, dfps, pc_l, pc_s, pos, pc2_l, pc2_s, pc_final_l, pc_final_s, pos_final, pos2, dzidx2, i , danger_zone2[0] )\n",
        "    \n",
        "    bbdf =np.stack( df_contracts_ext['long_pl_n'])\n",
        "    bbdf2 = np.stack(df_contracts_ext['short_pl_n'])\n",
        "    # bbdf =np.stack(df['new_bs_Payoff'])\n",
        "\n",
        "    # new_bs_Payoff\n",
        "    # print(bought['bs_Payoff'][0][161])\n",
        "    pl_holder_min.append(np.sum(bbdf, axis=0)+np.sum(bbdf2, axis=0))\n",
        "    \n",
        "    df_contracts, dfpl, dfps, pc_l, pc_s, pos, pc2_l, pc2_s, pc_final_l, pc_final_s, pos_final, pos2 =  get_future_proposals(df_cons_init, bought_prop, it, spot_min, spot_max, dbe,  b_s_payoff_prop,danger_zone2[-1], i)\n",
        "\n",
        "    nm_model = 'prophet_high_day_'+str(i)\n",
        "    opt_model, sol, df_contracts_ext, suxs = optimizr(nm_model, it, df_contracts, danger_zone[-1], move_set,dfpl, dfps, pc_l, pc_s, pos, pc2_l, pc2_s, pc_final_l, pc_final_s, pos_final, pos2, dzidx2, i, danger_zone2[-1] )\n",
        "    \n",
        "    bbdf =np.stack( df_contracts_ext['long_pl_n'])\n",
        "    bbdf2 = np.stack(df_contracts_ext['short_pl_n'])\n",
        "    # bbdf =np.stack(df['new_bs_Payoff'])\n",
        "\n",
        "    # new_bs_Payoff\n",
        "    # print(bought['bs_Payoff'][0][161])\n",
        "    pl_holder_max.append(np.sum(bbdf, axis=0)+np.sum(bbdf2, axis=0))"
      ],
      "execution_count": null,
      "outputs": []
    },
    {
      "cell_type": "code",
      "metadata": {
        "id": "CXBqodSid-DQ"
      },
      "source": [
        "len(pl_holder_max), len(pl_holder_max[0])"
      ],
      "execution_count": null,
      "outputs": []
    },
    {
      "cell_type": "code",
      "metadata": {
        "scrolled": false,
        "id": "XytsERbKd-DQ"
      },
      "source": [
        "%matplotlib inline\n",
        "from ipywidgets import interactive\n",
        "payoff_straddle = np.sum(bought.optionPayoff)\n",
        "theor_payoff_straddle = np.sum(bought.theor_optPayoff)\n",
        "bb =np.stack(bought['bs_Payoff'])\n",
        "# print(bought['bs_Payoff'][0][161])\n",
        "b_s_payoff_straddle = np.sum(bb, axis=0)\n",
        "# b_s_payoff_straddle=b_s_payoff_straddle[spot_min-1, spot_max]\n",
        "# df['new_bs_Payoff'] =df.apply(lambda x: 100*np.abs(x['items2'])*call_bs_payoff (x['sT'], x['strike_price'], x['bs'],x['theoretical'], x['items2']  ) if x['option']=='C'  \\\n",
        "#                                      else 100*np.abs(x['items2'])*put_bs_payoff (x['sT'], x['strike_price'], x['bs'], x['theoretical'], x['items2'] ), axis = 1)\n",
        "\n",
        "\n",
        "\n",
        "\n",
        "\n",
        "def f(future_stock_price, days_drom_today, sudden_time):\n",
        "    fig, ax = plt.subplots()\n",
        "    ax.spines['top'].set_visible(False) # Top border removed \n",
        "    ax.spines['right'].set_visible(False) # Right border removed\n",
        "    ax.spines['bottom'].set_position('zero') # Sets the X-axis in the center\n",
        "    x = np.linspace(-10, 10, num=1000)\n",
        "    ax.plot(bought.sT.iloc[0],payoff_straddle,label='P_L_Final')\n",
        "#     ax.plot(bought.sT.iloc[0],b_s_payoff_straddle[days_drom_today],label='B_S_Straddle')\n",
        "    ax.plot(bought.sT.iloc[0],b_s_payoff_straddle[days_drom_today],label='P_L_per_Day')\n",
        "    ax.plot(bought.sT.iloc[0],b_s_payoff_straddle[days_drom_today]+b_s_to_bought_payoff_straddle_prop[days_drom_today],label='P_L_After_Prop_per_Day')\n",
        "    ax.plot(bought.sT.iloc[0],+b_s_to_bought_payoff_straddle_prop[days_drom_today]\\\n",
        "            + pl_holder_min[sudden_time][days_drom_today],label='P_L_After_Prop_per_Day_WhatIfLow', color = 'red', linestyle='dashed')\n",
        "    ax.plot(bought.sT.iloc[0],+b_s_to_bought_payoff_straddle_prop[days_drom_today]\\\n",
        "            + pl_holder_max[sudden_time][days_drom_today],label='P_L_After_Prop_per_Day_WhatIfHigh', color='black', linestyle='dotted')\n",
        "    plt.ylim(((b_s_payoff_straddle[days_drom_today]+b_s_to_bought_payoff_straddle_prop).min(),\n",
        "              (b_s_payoff_straddle[days_drom_today]+b_s_to_bought_payoff_straddle_prop[days_drom_today]).max()))\n",
        "    plt.ylim(-2500,2000)\n",
        "    plt.xlim(np.round(current_spot*0.2).astype('int'), np.round(current_spot*1.4).astype('int'))\n",
        "    plt.xlabel('Stock Price', ha='left')\n",
        "    plt.ylabel('Profit and loss')\n",
        "    plt.legend()\n",
        "    plt.show()\n",
        "\n",
        "    \n",
        "interactive_plot = interactive(f, future_stock_price=(1, bought.S.iloc[0].max().astype(int)-1)\\\n",
        "                               , days_drom_today=(1, bought['days_array'].iloc[0].max().astype(int)-1, 1)\\\n",
        "                              , sudden_time=(1, bought['days_array'].iloc[0].max().astype(int)-1, 1))\n",
        "output = interactive_plot.children[-1]\n",
        "output.layout.height = '600px'\n",
        "print('{} : {}'.format(spot_min, spot_max))\n",
        "print('Current_price : {}'.format(current_spot))\n",
        "print('Danger_Zone : {}'.format(danger_zone))\n",
        "print('Amount Spent : {}'.format(df_contracts_ext.to_pay.sum(0)))\n",
        "interactive_plot"
      ],
      "execution_count": null,
      "outputs": []
    },
    {
      "cell_type": "code",
      "metadata": {
        "id": "rd87S-Gqd-DR"
      },
      "source": [
        ""
      ],
      "execution_count": null,
      "outputs": []
    },
    {
      "cell_type": "code",
      "metadata": {
        "scrolled": true,
        "id": "JFw3VEFxd-DR"
      },
      "source": [
        "import re\n",
        "df.contractName.iloc[a['column_i'][:]], [move_set[i] for i in a['column_j'].to_list()], a# a.name\n",
        "b = [re.sub( '_s*$', '', y.name) for y in m.vars]\n",
        "c = [ [y.x]+ y.name.split('_') for y in m.vars ]\n",
        "\n",
        "c = [x for x in c if x[0] != 0]\n",
        "c= [x for x in c if len(x)==3 ]\n",
        "\n",
        "\n",
        "b = pd.DataFrame(c, columns = ['items2', 'contractName', 'move'])\n",
        "b['items2'] = b.apply(lambda x: -1* x.items2 if x.move[0]=='s' else 1*x['items2'] , axis=1)\n",
        "b\n",
        "# # a.name\n",
        "# df['items2'] = df.apply(lambda y: c[b.index(y.contractName)] if b.index(y.contractName) else 0 , axis=1)\n",
        "# # m.vars.index('WFC210917P00047500')\n",
        "df = pd.merge(df,a , how = 'left', on='contractName')\n",
        "# df['items2'] = df['items2'].fillna(0)\n",
        "# df[['items2', 'contractName']]"
      ],
      "execution_count": null,
      "outputs": []
    },
    {
      "cell_type": "code",
      "metadata": {
        "id": "bV-ztZp6d-DR"
      },
      "source": [
        "pc_l[0]"
      ],
      "execution_count": null,
      "outputs": []
    },
    {
      "cell_type": "code",
      "metadata": {
        "scrolled": true,
        "id": "G_5MYzMVd-DR"
      },
      "source": [
        "np.round(current_spot*0.2),np.round(current_spot*1.2)\n",
        "current_spot\n",
        "df[df['items2']!=0].head(1)"
      ],
      "execution_count": null,
      "outputs": []
    },
    {
      "cell_type": "code",
      "metadata": {
        "id": "yzDEF1XCd-DR"
      },
      "source": [
        "# short_lim = df[['strike_price', 'option']]\n",
        "# short_lim['current_spot'] = df_stock['Close'].iloc[-1]\n",
        "# short_lim['short_lim'] = short_lim.apply(lambda x: -1 if (x.current_spot<x.strike_price and x.option=='C') or (x.current_spot>x.strike_price and x.option=='P') else 0, axis =1)\n",
        "# short_lim['call_lim'] = 1\n",
        "# short_lim['lim_bnds'] = short_lim.apply(lambda x: np.array([x.short_lim , x.call_lim]) , axis=1)\n",
        "# ss = 20*np.array(short_lim.lim_bnds)\n",
        "# np.stack(ss).shape\n",
        "# s=short_lim.can_short.to_list()\n",
        "# bnds*s\n"
      ],
      "execution_count": null,
      "outputs": []
    },
    {
      "cell_type": "code",
      "metadata": {
        "id": "2ukMq-End-DR"
      },
      "source": [
        "# r_min, r_max = -20.0, 20\n",
        "# bnds = np.tile([r_min, r_max], (pc.shape[0], 1))\n",
        "# bnds.shape\n",
        "# df.head(1)\n",
        "df.columns"
      ],
      "execution_count": null,
      "outputs": []
    },
    {
      "cell_type": "code",
      "metadata": {
        "id": "j5s2MFUFd-DR"
      },
      "source": [
        "b_s_to_bought_payoff_straddle.shape"
      ],
      "execution_count": null,
      "outputs": []
    },
    {
      "cell_type": "code",
      "metadata": {
        "id": "Q5_J138Qd-DS"
      },
      "source": [
        "result.success"
      ],
      "execution_count": null,
      "outputs": []
    },
    {
      "cell_type": "code",
      "metadata": {
        "id": "ciqN0MWad-DS"
      },
      "source": [
        "current_spot"
      ],
      "execution_count": null,
      "outputs": []
    },
    {
      "cell_type": "code",
      "metadata": {
        "id": "x0JWjljmd-DS"
      },
      "source": [
        "pc"
      ],
      "execution_count": null,
      "outputs": []
    },
    {
      "cell_type": "code",
      "metadata": {
        "id": "GsxoTXE0d-DS"
      },
      "source": [
        "x=np.array([0.2, 1.6])\n",
        "np.where((x<0.5) & (x>0),1,0).sum()"
      ],
      "execution_count": null,
      "outputs": []
    },
    {
      "cell_type": "code",
      "metadata": {
        "id": "vYTKeli5d-DS"
      },
      "source": [
        "df_stock = get_stock_data(symbol, exchange, api_key=token, session=None)\n"
      ],
      "execution_count": null,
      "outputs": []
    },
    {
      "cell_type": "code",
      "metadata": {
        "id": "ujdSqHYzd-DS"
      },
      "source": [
        "df_test = get_init_df(df_opts)"
      ],
      "execution_count": null,
      "outputs": []
    },
    {
      "cell_type": "code",
      "metadata": {
        "id": "8Y7Cp_U5d-DS"
      },
      "source": [
        "df_test[df_test['contractName']=='WFC210917C00027500'].head()"
      ],
      "execution_count": null,
      "outputs": []
    },
    {
      "cell_type": "code",
      "metadata": {
        "id": "fQc6f13wd-DS"
      },
      "source": [
        "df_contracts_ext[df_contracts_ext.contractName=='WFC210917C00027500'].bs.iloc[0][136].shape"
      ],
      "execution_count": null,
      "outputs": []
    },
    {
      "cell_type": "code",
      "metadata": {
        "id": "oN7FDTG9d-DT"
      },
      "source": [
        "lower, upper = 3.5, 6\n",
        "mu, sigma = 5, 0.7\n",
        "X = stats.truncnorm(\n",
        "    (lower - mu) / sigma, (upper - mu) / sigma, loc=mu, scale=sigma)\n",
        "N = stats.norm(loc=mu, scale=sigma)\n",
        "\n",
        "fig, ax = plt.subplots(2, sharex=True)\n",
        "ax[0].hist(X.rvs(10000), normed=True)\n",
        "ax[1].hist(N.rvs(10000), normed=True)\n",
        "plt.show()"
      ],
      "execution_count": null,
      "outputs": []
    }
  ]
}